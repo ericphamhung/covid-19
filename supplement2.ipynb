{
 "cells": [
  {
   "cell_type": "code",
   "execution_count": 36,
   "metadata": {},
   "outputs": [],
   "source": [
    "import pandas as pd\n",
    "import matplotlib.pyplot as plt\n",
    "from math import exp, sqrt\n",
    "import numpy as np\n",
    "\n",
    "from scipy import optimize\n",
    "\n",
    "from sklearn.linear_model import LinearRegression\n",
    "from sklearn.metrics import mean_squared_error, r2_score\n",
    "from sklearn.svm import SVR\n",
    "\n",
    "%matplotlib inline\n",
    "\n"
   ]
  },
  {
   "cell_type": "code",
   "execution_count": 32,
   "metadata": {},
   "outputs": [],
   "source": [
    "df = pd.read_csv('2019-ncov.csv',index_col=0)\n",
    "\n",
    "# filling missing date by taking average of the previous and preceding dates\n",
    "for country in df.columns:\n",
    "    df[country]['2020-01-22'] = (df[country]['2020-01-21'] + df[country]['2020-01-23'])/2\n",
    "\n",
    "df['Total_no_china'] = df.loc[:,df.columns != 'China'].sum(axis=1)\n",
    "df['Total'] = df.loc[:,df.columns != 'Total_no_china'].sum(axis=1)\n"
   ]
  },
  {
   "cell_type": "code",
   "execution_count": 33,
   "metadata": {},
   "outputs": [],
   "source": [
    "# dividing the countries by region\n",
    "\n",
    "regions = {\n",
    "    'china':['China'],\n",
    "    'western pacific':['South Korea', 'Japan', 'Singapore', 'Malaysia',\n",
    "                       'Australia','Philippines', 'Vietnam', 'Brunei',\n",
    "                       'New Zealand', 'Cambodia', 'Mongolia', 'French Polynesia'],\n",
    "    'european':['Italy', 'France', 'Spain', 'Germany', 'Switzerland', 'Denmark',\n",
    "                'Netherlands', 'United Kingdom', 'Belgium', 'Austria', 'Norway',\n",
    "                'Greece', 'Czech Republic', 'Israel', 'San Marino', 'Iceland',\n",
    "               'Slovenia', 'Romania', 'Poland', 'Ireland', 'Portugal', 'Finland',\n",
    "                'Georgia', 'Russia', 'Serbia', 'Luxembourg', 'Croatia', 'Latvia',\n",
    "                'Estonia', 'Hungary', 'Belarus', 'Albania', 'Slovakia', 'Azerbaijan',\n",
    "                'Bulgaria', 'North Macedonia', 'Cyprus', 'Malta', 'Bosnia and Herzegovina',\n",
    "               'Moldova', 'Lithuania', 'Andorra', 'Armenia', 'Holy See', 'Liechtenstein',\n",
    "                'Monaco', 'Turkey', 'Ukraine', 'Faroe Islands', 'Gibraltar', 'Guernsey', 'Jersey'],\n",
    "    'south-east asia':['India', 'Thailand', 'Indonesia', 'Maldives', 'Bangladesh',\n",
    "                       'Sri Lanka', 'Bhutan', 'Nepal'],\n",
    "    'eastern mediteranean':['Iran', 'Qatar', 'Bahrain', 'Kuwait', 'United Arab Emirates',\n",
    "                            'Iraq', 'Egypt', 'Lebanon', 'Saudi Arabia', 'Pakistan', 'Oman',\n",
    "                            'Afghanistan', 'Tunisia', 'Morocco', 'Jordan', 'Palestine'],\n",
    "    'americas':['United States', 'Canada', 'Brazil', 'Chile', 'Argentina', 'Ecuador', \n",
    "                'Peru', 'Costa Rica', 'Mexico', 'Panama', 'Colombia', 'Dominican Republic',\n",
    "                'Paraguay', 'Bolivia', 'Honduras', 'Jamaica', 'French Guiana', 'Martinique',\n",
    "                'Saint Martin', 'Saint Barthelemy', 'Antigua and Barbuda', 'Cayman Islands',\n",
    "               'Cuba', 'Guadeloupe', 'Guyana', 'Kenya', 'Puerto Rico', 'Saint Vincent',\n",
    "               'Venezuela'],\n",
    "    'african':['Algeria', 'South Africa', 'Senegal', 'Burkina Faso', 'Cameroon', 'Nigeria',\n",
    "               'Ivory Coast', 'Congo', 'Togo', 'Ethiopia', 'Gabon', 'Ghana', 'Guinea',\n",
    "              'Reunion', 'Sudan', 'Trinidad and Tobago']\n",
    "       \n",
    "}"
   ]
  },
  {
   "cell_type": "code",
   "execution_count": 34,
   "metadata": {},
   "outputs": [
    {
     "name": "stderr",
     "output_type": "stream",
     "text": [
      "/home/eric/miniconda3/envs/geo_test/lib/python3.7/site-packages/ipykernel_launcher.py:3: SettingWithCopyWarning: \n",
      "A value is trying to be set on a copy of a slice from a DataFrame.\n",
      "Try using .loc[row_indexer,col_indexer] = value instead\n",
      "\n",
      "See the caveats in the documentation: https://pandas.pydata.org/pandas-docs/stable/user_guide/indexing.html#returning-a-view-versus-a-copy\n",
      "  This is separate from the ipykernel package so we can avoid doing imports until\n"
     ]
    },
    {
     "data": {
      "text/plain": [
       "(array([-4.11089838e-04,  6.39352734e-02, -3.38118838e+00,  6.52319795e+01,\n",
       "        -2.39024963e+02,  3.79560379e+02]),\n",
       " array([3.02306063e+08]),\n",
       " 6,\n",
       " array([2.30507023e+00, 7.85566700e-01, 2.57351213e-01, 5.68254493e-02,\n",
       "        8.75786657e-03, 8.52769117e-04]),\n",
       " 1.199040866595169e-14)"
      ]
     },
     "execution_count": 34,
     "metadata": {},
     "output_type": "execute_result"
    }
   ],
   "source": [
    "for region, _ in regions.items():\n",
    "    df_part = df[regions[region]]\n",
    "    df_part['total'] = df_part.sum(axis=1)\n",
    "    df_part = df_part.loc[df_part['total']>1] #checks for at least 10 cases\n",
    "\n",
    "    # taking derivative\n",
    "    d1 = df_part['total'].diff()\n",
    "\n",
    "    dd1 = d1.reset_index(drop=True)\n",
    "    dd1 = dd1.dropna()\n",
    "    X = np.array(dd1.index)#.reshape(-1,1)\n",
    "    y = np.array(dd1)#.reshape(-1,1)\n",
    "\n",
    "    check = np.polyfit(np.array(dd1.index),np.array(dd1), deg=5, full=True)\n",
    "    \n",
    "    \n",
    "    \n",
    "    break\n",
    "    \n",
    "check"
   ]
  },
  {
   "cell_type": "code",
   "execution_count": 49,
   "metadata": {},
   "outputs": [],
   "source": [
    "def fx(x, a,b,c):\n",
    "    return a*np.exp(-(x-b)**2/(2*(c**2)))\n",
    "params, params_cov = optimize.curve_fit(fx,X,y)"
   ]
  },
  {
   "cell_type": "code",
   "execution_count": 54,
   "metadata": {},
   "outputs": [
    {
     "data": {
      "image/png": "[encoded data removed]",
      "text/plain": [
       "<Figure size 432x288 with 1 Axes>"
      ]
     },
     "metadata": {
      "needs_background": "light"
     },
     "output_type": "display_data"
    }
   ],
   "source": [
    "plt.plot(fx(X,*params))\n",
    "plt.plot(y)\n",
    "plt.show()"
   ]
  },
  {
   "cell_type": "code",
   "execution_count": 48,
   "metadata": {},
   "outputs": [
    {
     "data": {
      "text/plain": [
       "array([ 1,  2,  3,  4,  5,  6,  7,  8,  9, 10, 11, 12, 13, 14, 15, 16, 17,\n",
       "       18, 19, 20, 21, 22, 23, 24, 25, 26, 27, 28, 29, 30, 31, 32, 33, 34,\n",
       "       35, 36, 37, 38, 39, 40, 41, 42, 43, 44, 45, 46, 47, 48, 49, 50, 51,\n",
       "       52, 53, 54])"
      ]
     },
     "execution_count": 48,
     "metadata": {},
     "output_type": "execute_result"
    }
   ],
   "source": [
    "X"
   ]
  },
  {
   "cell_type": "code",
   "execution_count": null,
   "metadata": {},
   "outputs": [],
   "source": [
    "days = 90\n",
    "params = np.array([0.0001,0.0001,0.0001])\n",
    "t = np.linspace(0,days,days)\n",
    "\n",
    "\n",
    "def fx(x, params=params):\n",
    "    a= params[0]\n",
    "    b= params[1]\n",
    "    c= params[2]\n",
    "    return a*exp(-(x-b)**2/(2*(c**2)))\n",
    "\n",
    "init = [fx,params]\n",
    "f2 = np.vectorize(fx)\n",
    "\n",
    "def cost(X,y, theta): #SSE\n",
    "    m = len(y)\n",
    "    h = fx(X @ theta)\n",
    "    cost = (1/(2*m))*np.sum((h-y)**2)\n",
    "    return \n",
    "\n",
    "def gradient_desc(X,y,params, learning_rate, iterations):\n",
    "    m=len(y)\n",
    "    cost_history = np.zeros((iterations,1))\n",
    "    \n",
    "    A=f2(X)\n",
    "    \n",
    "    a= params[0]\n",
    "    b= params[1]\n",
    "    c= params[2]\n",
    "    \n",
    "    N = len(X)\n",
    "    a_deriv = 0\n",
    "    b_deriv = 0\n",
    "    c_deriv = 0\n",
    "    for i in range(iterations):\n",
    "            for ii in range(N):\n",
    "                a_deriv +=  exp(-((X[i]-b)**2)/(2*c)**2)\n",
    "                b_deriv += (a * exp(-((X[i]-b)**2)/2*c**2)) * ((X[i]-b)/c**2)\n",
    "                c_deriv += (a * exp(-((X[i]-b)**2)/2*c**2)) * ((X[i]-b)**2/c**3)\n",
    "\n",
    "            a -= 1/(2*len(y))*np.sum(-2*(y-A))*a_deriv\n",
    "            b -= 1/(2*len(y))*np.sum(-2*(y-A))*b_deriv\n",
    "            c -= 1/(2*len(y))*np.sum(-2*(y-A))*c_deriv\n",
    "            params = np.array([a,b,c])\n",
    "            cost_history[i] = cost(X,y)\n",
    "        \n",
    "    return (cost_history, params)\n"
   ]
  },
  {
   "cell_type": "code",
   "execution_count": null,
   "metadata": {},
   "outputs": [],
   "source": [
    "learning_rate = 0.0001\n",
    "iterations = 10\n",
    "\n",
    "c, p =gradient_desc(X,y,params, learning_rate=learning_rate, iterations=iterations)"
   ]
  },
  {
   "cell_type": "code",
   "execution_count": null,
   "metadata": {},
   "outputs": [],
   "source": [
    "a= params[0]\n",
    "b= params[1]\n",
    "c= params[2]\n",
    "\n",
    "unp = (fx,p)\n",
    "f3 = np.vectorize(*unp)\n",
    "\n",
    "\n",
    "plt.plot(f2(t))\n",
    "plt.show()"
   ]
  },
  {
   "cell_type": "code",
   "execution_count": 58,
   "metadata": {},
   "outputs": [],
   "source": [
    "def fx(x, a,b,c):\n",
    "    return a*np.exp(-(x-b)**2/(2*(c**2)))"
   ]
  },
  {
   "cell_type": "code",
   "execution_count": 118,
   "metadata": {},
   "outputs": [
    {
     "data": {
      "text/plain": [
       "[<matplotlib.lines.Line2D at 0x7f6329bffdd0>]"
      ]
     },
     "execution_count": 118,
     "metadata": {},
     "output_type": "execute_result"
    },
    {
     "data": {
      "image/png": "[encoded data removed]",
      "text/plain": [
       "<Figure size 432x288 with 1 Axes>"
      ]
     },
     "metadata": {
      "needs_background": "light"
     },
     "output_type": "display_data"
    }
   ],
   "source": [
    "days = 45\n",
    "t = np.linspace(0,days,days)\n",
    "\n",
    "\n",
    "a= 9000\n",
    "b= 50\n",
    "c= -3\n",
    "params=[a,b,c]\n",
    "plt.plot(fx(t,*params))"
   ]
  },
  {
   "cell_type": "code",
   "execution_count": null,
   "metadata": {},
   "outputs": [],
   "source": []
  },
  {
   "cell_type": "code",
   "execution_count": null,
   "metadata": {},
   "outputs": [],
   "source": []
  }
 ],
 "metadata": {
  "kernelspec": {
   "display_name": "geo_test",
   "language": "python",
   "name": "geo_test"
  },
  "language_info": {
   "codemirror_mode": {
    "name": "ipython",
    "version": 3
   },
   "file_extension": ".py",
   "mimetype": "text/x-python",
   "name": "python",
   "nbconvert_exporter": "python",
   "pygments_lexer": "ipython3",
   "version": "3.7.6"
  }
 },
 "nbformat": 4,
 "nbformat_minor": 4
}
