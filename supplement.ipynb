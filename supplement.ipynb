{
 "cells": [
  {
   "cell_type": "code",
   "execution_count": 1,
   "metadata": {},
   "outputs": [
    {
     "name": "stderr",
     "output_type": "stream",
     "text": [
      "\n",
      "Bad key \"text.kerning_factor\" on line 4 in\n",
      "/home/eric/miniconda3/envs/geo_test/lib/python3.7/site-packages/matplotlib/mpl-data/stylelib/_classic_test_patch.mplstyle.\n",
      "You probably need to get an updated matplotlibrc file from\n",
      "https://github.com/matplotlib/matplotlib/blob/v3.1.3/matplotlibrc.template\n",
      "or from the matplotlib source distribution\n"
     ]
    }
   ],
   "source": [
    "import pandas as pd\n",
    "import matplotlib.pyplot as plt\n",
    "from math import exp, sqrt\n",
    "import numpy as np\n",
    "\n",
    "from sklearn.linear_model import LinearRegression\n",
    "from sklearn.metrics import mean_squared_error, r2_score\n",
    "from sklearn.svm import SVR\n",
    "\n",
    "%matplotlib inline\n",
    "\n"
   ]
  },
  {
   "cell_type": "code",
   "execution_count": 2,
   "metadata": {},
   "outputs": [],
   "source": [
    "df = pd.read_csv('2019-ncov.csv',index_col=0)\n",
    "\n",
    "# filling missing date by taking average of the previous and preceding dates\n",
    "for country in df.columns:\n",
    "    df[country]['2020-01-22'] = (df[country]['2020-01-21'] + df[country]['2020-01-23'])/2\n",
    "\n",
    "df['Total_no_china'] = df.loc[:,df.columns != 'China'].sum(axis=1)\n",
    "df['Total'] = df.loc[:,df.columns != 'Total_no_china'].sum(axis=1)\n"
   ]
  },
  {
   "cell_type": "code",
   "execution_count": 3,
   "metadata": {},
   "outputs": [],
   "source": [
    "# getting density data from wikipedia\n",
    "url = 'https://en.wikipedia.org/wiki/List_of_countries_and_dependencies_by_population_density'\n",
    "all_tables = pd.read_html(url)\n",
    "\n",
    "# grabbing relevant table\n",
    "pop_table = all_tables[0][['Country (or dependent territory)','Area','Population']]\n",
    "\n",
    "# grabbing relevant columns from table\n",
    "a = pop_table['Country (or dependent territory)']['Country (or dependent territory)']\n",
    "b = pop_table['Area']['km2']\n",
    "c = pop_table['Population']['Population']\n",
    "\n",
    "# merging into dataframe\n",
    "frame = {'country':a,'area':b,'population':c}\n",
    "pop_table_2 = pd.DataFrame(frame)\n",
    "\n",
    "# removing unwanted data\n",
    "pop_table_2.drop(pop_table_2.index[[0,1,2,-1,-2]], inplace=True)\n",
    "pop_table_2.reset_index(inplace=True,drop = True)\n",
    "\n",
    "# resetting column types\n",
    "pop_table_2['area'] = pop_table_2['area'].astype(float)\n",
    "pop_table_2['population'] = pop_table_2['population'].astype(float)\n",
    "\n",
    "pop_table_2['density'] = pop_table_2['population']/pop_table_2['area']\n",
    "pop_table_2.sort_values('country', inplace=True)\n",
    "\n",
    "pop_table_2 = pop_table_2.replace('Faroe Islands (Denmark)', 'Faroe Islands')\n",
    "pop_table_2 = pop_table_2.replace('French Guiana (France)', 'French Guiana')\n",
    "pop_table_2 = pop_table_2.replace('Gibraltar (UK)[note 1]', 'Gibraltar')\n",
    "pop_table_2 = pop_table_2.replace('Guernsey (Crown dependency)', 'Guernsey')\n",
    "pop_table_2 = pop_table_2.replace('Vatican City', 'Holy See')\n",
    "pop_table_2 = pop_table_2.replace('Martinique (France)', 'Martinique')\n",
    "pop_table_2 = pop_table_2.replace('Russia[note 6]', 'Russia')\n",
    "pop_table_2 = pop_table_2.replace('Saint Martin (France)', 'Saint Martin')\n",
    "pop_table_2 = pop_table_2.replace('Saint Barthelemy (France)', 'Saint Barthelemy')\n",
    "pop_table_2 = pop_table_2.replace('Ukraine [note 4]', 'Ukraine')\n",
    "pop_table_2 = pop_table_2.replace('French Polynesia (France)', 'French Polynesia')\n",
    "pop_table_2 = pop_table_2.replace('Democratic Republic of the Congo', 'Congo')\n",
    "pop_table_2 = pop_table_2.replace('Cayman Islands (UK)', 'Cayman Islands')\n",
    "pop_table_2 = pop_table_2.replace('Guadeloupe (France)', 'Guadeloupe')\n",
    "pop_table_2 = pop_table_2.replace('Jersey (Crown dependency)', 'Jersey')\n",
    "pop_table_2 = pop_table_2.replace('Puerto Rico (US)', 'Puerto Rico')\n",
    "pop_table_2 = pop_table_2.replace('Reunion (France)', 'Reunion')\n",
    "pop_table_2 = pop_table_2.replace('Saint Vincent and the Grenadines', 'Saint Vincent')\n",
    "\n",
    "\n",
    "# fixing the UK...\n",
    "\n",
    "uk_countries = ['Wales', 'England','Northern Ireland', 'Scotland']\n",
    "uk_subset = pop_table_2[pop_table_2['country'].isin(uk_countries)]\n",
    "uk_row = [['United Kingdom',uk_subset['area'].sum(), uk_subset['population'].sum(), uk_subset['density'].sum()]]\n",
    "columns = uk_subset.columns\n",
    "uk_row = pd.DataFrame(uk_row, columns=columns)\n",
    "\n",
    "pop_table_2 = pop_table_2.append(uk_row, ignore_index=True)\n",
    "# pop_table_2"
   ]
  },
  {
   "cell_type": "code",
   "execution_count": 4,
   "metadata": {},
   "outputs": [
    {
     "name": "stdout",
     "output_type": "stream",
     "text": [
      "International\n"
     ]
    }
   ],
   "source": [
    "# checks if there are countries in the data that is not in wilipedia\n",
    "pop_countries = [c for c in pop_table_2['country']]\n",
    "data_countries = [c for c in list(df.columns[:-2])]\n",
    "[print(c) for c in data_countries if c not in pop_countries]\n",
    "\n",
    "# want to normalize based on density\n",
    "dfdf = df[data_countries]\n",
    "# for country in data_countries:\n",
    "#     area_ = pop_table_2[pop_table_2['country']==country]['area']\n",
    "#     density_ = pop_table_2[pop_table_2['country']==country]['density']\n",
    "#     dfdf[country] = dfdf[country].apply(lambda x: (x / area_))\n"
   ]
  },
  {
   "cell_type": "code",
   "execution_count": 5,
   "metadata": {},
   "outputs": [],
   "source": [
    "right = pop_table_2[['country','population']]\n",
    "left = pd.DataFrame(dfdf.iloc[-1])\n",
    "left.reset_index(inplace=True, drop=False)\n",
    "left.rename(columns={'index':'country'}, inplace=True)"
   ]
  },
  {
   "cell_type": "code",
   "execution_count": 6,
   "metadata": {},
   "outputs": [
    {
     "name": "stderr",
     "output_type": "stream",
     "text": [
      "/home/eric/miniconda3/envs/geo_test/lib/python3.7/site-packages/pandas/core/series.py:679: RuntimeWarning: divide by zero encountered in log10\n",
      "  result = getattr(ufunc, method)(*inputs, **kwargs)\n"
     ]
    }
   ],
   "source": [
    "merged = pd.merge(left,right, how='inner', on='country')\n",
    "merged['pop_log'] = np.log10(merged['population'])\n",
    "merged['case_log'] = np.log10(merged['2020-03-14'])"
   ]
  },
  {
   "cell_type": "code",
   "execution_count": 7,
   "metadata": {},
   "outputs": [
    {
     "data": {
      "image/png": "[encoded data removed]",
      "text/plain": [
       "<Figure size 720x720 with 1 Axes>"
      ]
     },
     "metadata": {
      "needs_background": "light"
     },
     "output_type": "display_data"
    }
   ],
   "source": [
    "plt.figure(figsize=(10,10))\n",
    "plt.scatter(x=merged['pop_log'],y=merged['case_log'], alpha = 0.5)\n",
    "plt.xlabel('log10 of country population')\n",
    "plt.ylabel('log10 of confirmed covid19 cases')\n",
    "plt.show()"
   ]
  },
  {
   "cell_type": "code",
   "execution_count": 8,
   "metadata": {},
   "outputs": [],
   "source": [
    "#checks if new countries have been added\n",
    "# for country in df.columns:\n",
    "#     if df.iloc[-2][country] == 0:\n",
    "#         print(country)"
   ]
  },
  {
   "cell_type": "code",
   "execution_count": null,
   "metadata": {},
   "outputs": [],
   "source": []
  }
 ],
 "metadata": {
  "kernelspec": {
   "display_name": "geo_test",
   "language": "python",
   "name": "geo_test"
  },
  "language_info": {
   "codemirror_mode": {
    "name": "ipython",
    "version": 3
   },
   "file_extension": ".py",
   "mimetype": "text/x-python",
   "name": "python",
   "nbconvert_exporter": "python",
   "pygments_lexer": "ipython3",
   "version": "3.7.6"
  }
 },
 "nbformat": 4,
 "nbformat_minor": 4
}
