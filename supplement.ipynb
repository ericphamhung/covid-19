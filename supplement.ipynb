{
 "cells": [
  {
   "cell_type": "code",
   "execution_count": 1,
   "metadata": {},
   "outputs": [],
   "source": [
    "import pandas as pd\n",
    "import matplotlib.pyplot as plt\n",
    "from math import exp, sqrt\n",
    "import numpy as np\n",
    "\n",
    "from sklearn.linear_model import LinearRegression\n",
    "from sklearn.metrics import mean_squared_error, r2_score\n",
    "from sklearn.svm import SVR\n",
    "\n",
    "from scipy.stats import pearsonr\n",
    "\n",
    "\n",
    "%matplotlib inline\n",
    "\n"
   ]
  },
  {
   "cell_type": "code",
   "execution_count": 2,
   "metadata": {},
   "outputs": [],
   "source": [
    "df = pd.read_csv('2019-ncov.csv',index_col=0)\n",
    "\n",
    "# filling missing date by taking average of the previous and preceding dates\n",
    "for country in df.columns:\n",
    "    df[country]['2020-01-22'] = (df[country]['2020-01-21'] + df[country]['2020-01-23'])/2\n",
    "\n",
    "# df['Total_no_china'] = df.loc[:,df.columns != 'China'].sum(axis=1)\n",
    "# df['Total'] = df.loc[:,df.columns != 'Total_no_china'].sum(axis=1)\n"
   ]
  },
  {
   "cell_type": "code",
   "execution_count": 3,
   "metadata": {},
   "outputs": [],
   "source": [
    "# getting density data from wikipedia\n",
    "url = 'https://en.wikipedia.org/wiki/List_of_countries_and_dependencies_by_population_density'\n",
    "all_tables = pd.read_html(url)\n",
    "\n",
    "# grabbing relevant table\n",
    "pop_table = all_tables[0][['Country (or dependent territory)','Area','Population']]\n",
    "\n",
    "# grabbing relevant columns from table\n",
    "a = pop_table['Country (or dependent territory)']['Country (or dependent territory)']\n",
    "b = pop_table['Area']['km2']\n",
    "c = pop_table['Population']['Population']\n",
    "\n",
    "# merging into dataframe\n",
    "frame = {'country':a,'area':b,'population':c}\n",
    "pop_table_2 = pd.DataFrame(frame)\n",
    "\n",
    "# removing unwanted data\n",
    "pop_table_2.drop(pop_table_2.index[[0,1,2,-1,-2]], inplace=True)\n",
    "pop_table_2.reset_index(inplace=True,drop = True)\n",
    "\n",
    "# resetting column types\n",
    "pop_table_2['area'] = pop_table_2['area'].astype(float)\n",
    "pop_table_2['population'] = pop_table_2['population'].astype(float)\n",
    "\n",
    "pop_table_2['density'] = pop_table_2['population']/pop_table_2['area']\n",
    "pop_table_2.sort_values('country', inplace=True)\n",
    "\n",
    "pop_table_2 = pop_table_2.replace('Faroe Islands (Denmark)', 'Faroe Islands')\n",
    "pop_table_2 = pop_table_2.replace('French Guiana (France)', 'French Guiana')\n",
    "pop_table_2 = pop_table_2.replace('Gibraltar (UK)[note 1]', 'Gibraltar')\n",
    "pop_table_2 = pop_table_2.replace('Guernsey (Crown dependency)', 'Guernsey')\n",
    "pop_table_2 = pop_table_2.replace('Vatican City', 'Holy See')\n",
    "pop_table_2 = pop_table_2.replace('Martinique (France)', 'Martinique')\n",
    "pop_table_2 = pop_table_2.replace('Russia[note 6]', 'Russia')\n",
    "pop_table_2 = pop_table_2.replace('Saint Martin (France)', 'Saint Martin')\n",
    "pop_table_2 = pop_table_2.replace('Saint Barthelemy (France)', 'Saint Barthelemy')\n",
    "pop_table_2 = pop_table_2.replace('Ukraine [note 4]', 'Ukraine')\n",
    "pop_table_2 = pop_table_2.replace('French Polynesia (France)', 'French Polynesia')\n",
    "pop_table_2 = pop_table_2.replace('Democratic Republic of the Congo', 'Congo')\n",
    "pop_table_2 = pop_table_2.replace('Cayman Islands (UK)', 'Cayman Islands')\n",
    "pop_table_2 = pop_table_2.replace('Guadeloupe (France)', 'Guadeloupe')\n",
    "pop_table_2 = pop_table_2.replace('Jersey (Crown dependency)', 'Jersey')\n",
    "pop_table_2 = pop_table_2.replace('Puerto Rico (US)', 'Puerto Rico')\n",
    "pop_table_2 = pop_table_2.replace('Reunion (France)', 'Reunion')\n",
    "pop_table_2 = pop_table_2.replace('Saint Vincent and the Grenadines', 'Saint Vincent')\n",
    "pop_table_2 = pop_table_2.replace('Curaçao (Kingdom of the Netherlands)', 'Curacao')\n",
    "pop_table_2 = pop_table_2.replace('Eswatini (Swaziland)', 'Eswatini')\n",
    "pop_table_2 = pop_table_2.replace('Mayotte (France)', 'Mayotte')\n",
    "pop_table_2 = pop_table_2.replace('Uruguay[note 5][clarification needed]', 'Uruguay')\n",
    "\n",
    "\n",
    "\n",
    "\n",
    "# fixing the UK...\n",
    "\n",
    "uk_countries = ['Wales', 'England','Northern Ireland', 'Scotland']\n",
    "uk_subset = pop_table_2[pop_table_2['country'].isin(uk_countries)]\n",
    "uk_row = [['United Kingdom',uk_subset['area'].sum(), uk_subset['population'].sum(), uk_subset['density'].sum()]]\n",
    "columns = uk_subset.columns\n",
    "uk_row = pd.DataFrame(uk_row, columns=columns)\n",
    "\n",
    "pop_table_2 = pop_table_2.append(uk_row, ignore_index=True)\n",
    "# pop_table_2"
   ]
  },
  {
   "cell_type": "code",
   "execution_count": 4,
   "metadata": {},
   "outputs": [
    {
     "name": "stdout",
     "output_type": "stream",
     "text": [
      "East Timor\n",
      "Guam\n",
      "Kosovo\n"
     ]
    }
   ],
   "source": [
    "# checks if there are countries in the data that is not in wilipedia\n",
    "pop_countries = [c for c in pop_table_2['country']]\n",
    "data_countries = [c for c in list(df.columns[:-2])]\n",
    "[print(c) for c in data_countries if c not in pop_countries]\n",
    "\n",
    "# want to normalize based on density\n",
    "dfdf = df[data_countries]\n",
    "# for country in data_countries:\n",
    "#     area_ = pop_table_2[pop_table_2['country']==country]['area']\n",
    "#     density_ = pop_table_2[pop_table_2['country']==country]['density']\n",
    "#     dfdf[country] = dfdf[country].apply(lambda x: (x / area_))\n"
   ]
  },
  {
   "cell_type": "code",
   "execution_count": 5,
   "metadata": {},
   "outputs": [],
   "source": [
    "# pop_countries"
   ]
  },
  {
   "cell_type": "code",
   "execution_count": 6,
   "metadata": {},
   "outputs": [],
   "source": [
    "right = pop_table_2[['country','population']]\n",
    "left = pd.DataFrame(dfdf.iloc[-1])\n",
    "left.reset_index(inplace=True, drop=False)\n",
    "left.rename(columns={'index':'country'}, inplace=True)"
   ]
  },
  {
   "cell_type": "code",
   "execution_count": 7,
   "metadata": {},
   "outputs": [
    {
     "name": "stderr",
     "output_type": "stream",
     "text": [
      "C:\\Users\\Eric\\Anaconda3\\lib\\site-packages\\ipykernel_launcher.py:2: RuntimeWarning: divide by zero encountered in log10\n",
      "  \n"
     ]
    }
   ],
   "source": [
    "merged = pd.merge(left,right, how='inner', on='country')\n",
    "merged['pop_log'] = np.log10(merged['population'])\n",
    "merged['case_log'] = np.log10(merged['2020-03-23'])"
   ]
  },
  {
   "cell_type": "code",
   "execution_count": 8,
   "metadata": {},
   "outputs": [
    {
     "data": {
      "image/png": "[encoded data removed]",
      "text/plain": [
       "<Figure size 720x720 with 1 Axes>"
      ]
     },
     "metadata": {},
     "output_type": "display_data"
    }
   ],
   "source": [
    "plt.figure(figsize=(10,10))\n",
    "x = merged['pop_log']\n",
    "y = merged['case_log'] \n",
    "plt.scatter(x,y, alpha = 0.5)\n",
    "plt.xlabel('log10 of country population')\n",
    "plt.ylabel('log10 of confirmed covid19 cases')\n",
    "\n",
    "i = x[x.isin([np.nan, np.inf, -np.inf])].index\n",
    "x =x.drop(i)\n",
    "y = y.drop(i)\n",
    "\n",
    "corr, _ = pearsonr(x,y)\n",
    "plt.title(' Correlation between population and confirmed cases \\n Pearson correlation : {}'.format(corr))\n",
    "plt.show()"
   ]
  },
  {
   "cell_type": "code",
   "execution_count": 9,
   "metadata": {},
   "outputs": [],
   "source": [
    "#checks if new countries have been added\n",
    "# for country in df.columns:\n",
    "#     if df.iloc[-2][country] == 0:\n",
    "#         print(country)"
   ]
  },
  {
   "cell_type": "code",
   "execution_count": null,
   "metadata": {},
   "outputs": [],
   "source": []
  },
  {
   "cell_type": "code",
   "execution_count": null,
   "metadata": {},
   "outputs": [],
   "source": []
  },
  {
   "cell_type": "code",
   "execution_count": 10,
   "metadata": {},
   "outputs": [],
   "source": [
    "# looking to see if there is a correlation between the average monthly temperatre of a country and the latest\n",
    "# number of covid cases\n",
    "\n",
    "\n",
    "import re\n",
    "url2 = 'https://en.wikipedia.org/wiki/List_of_cities_by_average_temperature'\n",
    "\n",
    "all_temperatures = pd.read_html(url2)\n",
    "\n",
    "def get_c(string):\n",
    "#     print(string)\n",
    "    string = re.sub(r'[^\\x00-\\x7F]+','-', string) # otherwise errors out on negative values\n",
    "    return float(string[:string.find('(')])"
   ]
  },
  {
   "cell_type": "code",
   "execution_count": 11,
   "metadata": {},
   "outputs": [
    {
     "name": "stdout",
     "output_type": "stream",
     "text": [
      "0\n",
      "1\n",
      "2\n",
      "3\n"
     ]
    },
    {
     "name": "stderr",
     "output_type": "stream",
     "text": [
      "C:\\Users\\Eric\\Anaconda3\\lib\\site-packages\\ipykernel_launcher.py:5: SettingWithCopyWarning: \n",
      "A value is trying to be set on a copy of a slice from a DataFrame.\n",
      "Try using .loc[row_indexer,col_indexer] = value instead\n",
      "\n",
      "See the caveats in the documentation: http://pandas.pydata.org/pandas-docs/stable/indexing.html#indexing-view-versus-copy\n",
      "  \"\"\"\n"
     ]
    },
    {
     "name": "stdout",
     "output_type": "stream",
     "text": [
      "4\n",
      "5\n"
     ]
    }
   ],
   "source": [
    "country_temps = pd.DataFrame(columns = ['Country', 'temperature'])\n",
    "for i in range(6): # cycles through all tables\n",
    "    print(i)\n",
    "    df_ = all_temperatures[i].iloc[:,[0,4]]\n",
    "    df_['temperature'] = df_['Mar'].apply(get_c)\n",
    "    del df_['Mar']\n",
    "    df_ = df_.groupby('Country').mean()\n",
    "    df_.reset_index(inplace=True)\n",
    "    country_temps = country_temps.append(df_, ignore_index=True)\n",
    "#     break\n"
   ]
  },
  {
   "cell_type": "code",
   "execution_count": 12,
   "metadata": {},
   "outputs": [],
   "source": [
    "last_df = pd.DataFrame(df.iloc[-1])\n",
    "last_df.reset_index(inplace=True)\n",
    "# last_df"
   ]
  },
  {
   "cell_type": "code",
   "execution_count": 13,
   "metadata": {},
   "outputs": [],
   "source": [
    "merged_temp = country_temps.merge(last_df, left_on = 'Country',right_on = 'index', how='inner' )\n",
    "\n",
    "# dropping china\n",
    "# i = merged_temp[merged_temp['Country']=='China'].index\n",
    "# merged_temp.drop(i, inplace=True)"
   ]
  },
  {
   "cell_type": "code",
   "execution_count": 14,
   "metadata": {},
   "outputs": [
    {
     "data": {
      "image/png": "[encoded data removed]",
      "text/plain": [
       "<Figure size 576x576 with 1 Axes>"
      ]
     },
     "metadata": {},
     "output_type": "display_data"
    }
   ],
   "source": [
    "\n",
    "x = merged_temp['temperature']\n",
    "y = np.log10(merged_temp.iloc[:,-1])\n",
    "\n",
    "\n",
    "\n",
    "plt.figure(figsize=(8,8))\n",
    "plt.scatter(x,y, alpha = 0.5, label='Country affected by \\n covid19')\n",
    "plt.xlabel('average temperature in March (C)')\n",
    "plt.ylabel('log number of current cases')\n",
    "plt.title(\"Investigating the correlation of temperature to number of covid19 cases \\n Pearson's correlation: {}\".format(corr) )\n",
    "\n",
    "corr, _ = pearsonr(x,y)\n",
    "corr\n",
    "plt.legend(loc='upper left')\n",
    "plt.show()\n"
   ]
  },
  {
   "cell_type": "code",
   "execution_count": 15,
   "metadata": {},
   "outputs": [
    {
     "data": {
      "text/html": [
       "<div>\n",
       "<style scoped>\n",
       "    .dataframe tbody tr th:only-of-type {\n",
       "        vertical-align: middle;\n",
       "    }\n",
       "\n",
       "    .dataframe tbody tr th {\n",
       "        vertical-align: top;\n",
       "    }\n",
       "\n",
       "    .dataframe thead th {\n",
       "        text-align: right;\n",
       "    }\n",
       "</style>\n",
       "<table border=\"1\" class=\"dataframe\">\n",
       "  <thead>\n",
       "    <tr style=\"text-align: right;\">\n",
       "      <th></th>\n",
       "      <th>country</th>\n",
       "      <th>area</th>\n",
       "      <th>population</th>\n",
       "      <th>density</th>\n",
       "    </tr>\n",
       "  </thead>\n",
       "  <tbody>\n",
       "    <tr>\n",
       "      <th>38</th>\n",
       "      <td>Canada</td>\n",
       "      <td>9984670.0</td>\n",
       "      <td>37968566.0</td>\n",
       "      <td>3.802686</td>\n",
       "    </tr>\n",
       "  </tbody>\n",
       "</table>\n",
       "</div>"
      ],
      "text/plain": [
       "   country       area  population   density\n",
       "38  Canada  9984670.0  37968566.0  3.802686"
      ]
     },
     "execution_count": 15,
     "metadata": {},
     "output_type": "execute_result"
    }
   ],
   "source": [
    "pop_table_2[pop_table_2['country']=='Canada']"
   ]
  },
  {
   "cell_type": "code",
   "execution_count": 98,
   "metadata": {},
   "outputs": [],
   "source": [
    "url3 = 'https://en.wikipedia.org/wiki/List_of_countries_by_age_structure'\n",
    "\n",
    "age_break = pd.read_html(url3)\n",
    "age_break = age_break[0]\n",
    "age_break.columns = age_break.columns.get_level_values(1)\n",
    "\n",
    "def convert_string(string):\n",
    "    string = string[0:-2]\n",
    "    return float(string)/100\n",
    "for i in range(1,4):\n",
    "    age_break[age_break.columns[i]] = age_break[age_break.columns[i]].apply(convert_string)\n",
    "    \n",
    "pop_table_3 = pop_table_2.merge(age_break, left_on='country', right_on='Country', how='inner')\n",
    "del pop_table_3['Country']\n",
    "\n",
    "rename_c = {\n",
    "'age 0 to 14 years[1]':'age 0 to 14',\n",
    "'age 15 to 64 years[2]': 'age 15 to 64',\n",
    "'age over 65 years[3]': 'age over 65'}\n",
    "\n",
    "pop_table_3 = pop_table_3.rename(columns = rename_c)"
   ]
  },
  {
   "cell_type": "code",
   "execution_count": null,
   "metadata": {},
   "outputs": [],
   "source": []
  },
  {
   "cell_type": "code",
   "execution_count": 100,
   "metadata": {},
   "outputs": [],
   "source": [
    "pop_table_3.to_csv('country_pop_data.csv',index=False)"
   ]
  },
  {
   "cell_type": "code",
   "execution_count": null,
   "metadata": {},
   "outputs": [],
   "source": []
  }
 ],
 "metadata": {
  "kernelspec": {
   "display_name": "Python 3",
   "language": "python",
   "name": "python3"
  },
  "language_info": {
   "codemirror_mode": {
    "name": "ipython",
    "version": 3
   },
   "file_extension": ".py",
   "mimetype": "text/x-python",
   "name": "python",
   "nbconvert_exporter": "python",
   "pygments_lexer": "ipython3",
   "version": "3.6.4"
  }
 },
 "nbformat": 4,
 "nbformat_minor": 4
}
